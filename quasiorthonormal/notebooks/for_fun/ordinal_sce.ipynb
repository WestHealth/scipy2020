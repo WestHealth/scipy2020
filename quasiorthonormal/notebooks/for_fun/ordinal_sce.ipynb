{
 "cells": [
  {
   "cell_type": "markdown",
   "metadata": {},
   "source": [
    "# MNIST Classification test using ordinal encoding and sparse crossentropy loss"
   ]
  },
  {
   "cell_type": "code",
   "execution_count": 1,
   "metadata": {},
   "outputs": [],
   "source": [
    "import numpy"
   ]
  },
  {
   "cell_type": "code",
   "execution_count": 2,
   "metadata": {},
   "outputs": [],
   "source": [
    "import tensorflow as tf\n",
    "mnist = tf.keras.datasets.mnist\n",
    "(x_train, y_train), (x_test, y_test) = mnist.load_data()\n",
    "x_train, x_test = x_train / 255.0, x_test / 255.0"
   ]
  },
  {
   "cell_type": "markdown",
   "metadata": {},
   "source": [
    "## Ordinal Encoding to Crossentropy\n",
    "To use crossentropy we need to convert our output to a probability density. So we map the output x as follows:\n",
    "$$x\\mapsto \\left[{e^{-x^2\\over 2} \\over \\sum_{j=0}^{K-1} e^{-(x-j)^2\\over 2}},{e^{-(x-i)^2\\over2} \\over \\sum_{j=0}^{K-1} e^{-(x-j)^2\\over 2}}{e^{-(x-K+1)^2\\over 2} \\over \\sum_{j=0}^{K-1} e^{-(x-j)^2\\over 2}}\\right]$$ for $K$ categories. Basically it extracts each category with an enveloping gaussian and normalizes everything so the probabilities add up to 1."
   ]
  },
  {
   "cell_type": "markdown",
   "metadata": {},
   "source": [
    "#### Let's build and train our model\n",
    "Here are some helper functions, the subordinal function performs the gaussian enveloping. The normalize converts the vector to have a total sum of one."
   ]
  },
  {
   "cell_type": "code",
   "execution_count": 3,
   "metadata": {},
   "outputs": [],
   "source": [
    "def softordinal(n):\n",
    "    '''\n",
    "    Generates a function that converts an ordinal coding to a set of \"unnormalized probabilities\n",
    "    @param n  number of categories\n",
    "    '''\n",
    "    r = tf.constant([range(0, n)], dtype=tf.float32)\n",
    "\n",
    "    def func(x):\n",
    "        qx = tf.matmul(x, tf.reshape(tf.ones(n), (1, n)))\n",
    "        ex = (qx - r)\n",
    "        sep = (tf.exp(-(ex * ex) / 2))\n",
    "        sums = (tf.math.reduce_sum(sep, axis=1))\n",
    "        return sep\n",
    "\n",
    "    return func\n",
    "\n",
    "\n",
    "def normalize(x, axis=None):\n",
    "    '''\n",
    "    Normalizes the vector so that sum of all components equals 1\n",
    "    @param x    The input vector\n",
    "    @param axis The axis to normalize over\n",
    "    '''\n",
    "    return (x / tf.reduce_sum(x, axis))"
   ]
  },
  {
   "cell_type": "markdown",
   "metadata": {},
   "source": [
    "#### A noted about the model. It was difficult to bend tensorflow to my will here so I had to resort to two lambda layers otherwise it had a cow about the `Tensor` shapes"
   ]
  },
  {
   "cell_type": "code",
   "execution_count": 4,
   "metadata": {},
   "outputs": [],
   "source": [
    "sce_model=tf.keras.models.Sequential([\n",
    "  tf.keras.layers.Flatten(input_shape=(28, 28)),\n",
    "  tf.keras.layers.Dense(64, activation=tf.nn.relu),\n",
    "  tf.keras.layers.Dropout(0.2),\n",
    "  tf.keras.layers.Dense(1),\n",
    "  tf.keras.layers.Lambda(softordinal(10)),\n",
    "  tf.keras.layers.Lambda(normalize)])"
   ]
  },
  {
   "cell_type": "code",
   "execution_count": 5,
   "metadata": {},
   "outputs": [],
   "source": [
    "sce_model.compile(optimizer='adam',\n",
    "                  loss='sparse_categorical_crossentropy',\n",
    "                  metrics=['accuracy'])"
   ]
  },
  {
   "cell_type": "code",
   "execution_count": 6,
   "metadata": {},
   "outputs": [
    {
     "data": {
      "text/plain": [
       "<tensorflow.python.keras.callbacks.History at 0x7f6c06c2ff50>"
      ]
     },
     "execution_count": 6,
     "metadata": {},
     "output_type": "execute_result"
    }
   ],
   "source": [
    "sce_model.fit(x_train,\n",
    "              y_train,\n",
    "              epochs=20,\n",
    "              validation_data=(x_test, y_test),\n",
    "              verbose=0)"
   ]
  },
  {
   "cell_type": "markdown",
   "metadata": {},
   "source": [
    "## We display some results\n",
    "### The validation loss tells us how well the training went"
   ]
  },
  {
   "cell_type": "code",
   "execution_count": 7,
   "metadata": {},
   "outputs": [
    {
     "data": {
      "text/plain": [
       "[<matplotlib.lines.Line2D at 0x7f6bbc6195d0>]"
      ]
     },
     "execution_count": 7,
     "metadata": {},
     "output_type": "execute_result"
    },
    {
     "data": {
      "image/png": "[encoded data removed]",
      "text/plain": [
       "<Figure size 432x288 with 1 Axes>"
      ]
     },
     "metadata": {
      "needs_background": "light"
     },
     "output_type": "display_data"
    }
   ],
   "source": [
    "import matplotlib.pyplot as plt\n",
    "%matplotlib inline\n",
    "from IPython.display import display, Markdown\n",
    "\n",
    "plt.plot(sce_model.history.history['val_loss'])"
   ]
  },
  {
   "cell_type": "markdown",
   "metadata": {},
   "source": [
    "### Print the final results in big bold text"
   ]
  },
  {
   "cell_type": "code",
   "execution_count": 8,
   "metadata": {},
   "outputs": [
    {
     "data": {
      "text/markdown": [
       "# The accuracy is 63.750% for the test set and 54.750% for the training set"
      ],
      "text/plain": [
       "<IPython.core.display.Markdown object>"
      ]
     },
     "metadata": {},
     "output_type": "display_data"
    }
   ],
   "source": [
    "text = \"The accuracy is {:4.3f}% for the test set and {:4.3f}% for the training set\".format(\n",
    "    sce_model.history.history['val_accuracy'][-1]*100,\n",
    "    sce_model.history.history['accuracy'][-1]*100)\n",
    "display(Markdown(f\"# {text}\"))"
   ]
  },
  {
   "cell_type": "code",
   "execution_count": 9,
   "metadata": {},
   "outputs": [
    {
     "data": {
      "text/plain": [
       "'The accuracy is 63.750% for the test set and 54.750% for the training set'"
      ]
     },
     "execution_count": 9,
     "metadata": {},
     "output_type": "execute_result"
    }
   ],
   "source": [
    "text"
   ]
  },
  {
   "cell_type": "markdown",
   "metadata": {},
   "source": [
    "# Better than MSE but still not very good"
   ]
  },
  {
   "cell_type": "markdown",
   "metadata": {},
   "source": [
    "Its interesting if you look at misclassifications, there is a lot of samples that are off by 1. For instance `2` gets labelled as `3` or `6` as `5`."
   ]
  },
  {
   "cell_type": "code",
   "execution_count": null,
   "metadata": {},
   "outputs": [],
   "source": []
  }
 ],
 "metadata": {
  "kernelspec": {
   "display_name": "Python 3",
   "language": "python",
   "name": "python3"
  },
  "language_info": {
   "codemirror_mode": {
    "name": "ipython",
    "version": 3
   },
   "file_extension": ".py",
   "mimetype": "text/x-python",
   "name": "python",
   "nbconvert_exporter": "python",
   "pygments_lexer": "ipython3",
   "version": "3.7.6"
  }
 },
 "nbformat": 4,
 "nbformat_minor": 4
}
